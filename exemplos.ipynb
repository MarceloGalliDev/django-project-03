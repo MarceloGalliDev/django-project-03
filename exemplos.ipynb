{
 "cells": [
  {
   "cell_type": "code",
   "execution_count": null,
   "metadata": {},
   "outputs": [],
   "source": [
    "# Interpolação\n",
    "# s - string\n",
    "# d e i - inteiro\n",
    "# f - float\n",
    "# x e X - hexadecimal(ABCDEF0123456789)\n",
    "\n",
    "nome = 'Luiz'\n",
    "preco = 1000.95674\n",
    "\n",
    "# observar o tipo de interpolação\n",
    "print('%s, o preço é R$%.2f' % (nome, preco))\n",
    "\n",
    "# o %04x o 04 antes do x é para preencher caso não tenha as 4 casas decimais\n",
    "print('O hexadecimal de %d é %04X' % (15, 15))"
   ]
  },
  {
   "cell_type": "code",
   "execution_count": null,
   "metadata": {},
   "outputs": [],
   "source": [
    "# Fatiamento\n",
    "# fatiamento = [i:f:p] = [::]\n",
    "# i = inicio\n",
    "# f = fim\n",
    "# p = passo, o tamanho do pulo de um em um\n",
    "# função len() retorna quantidade de caracteres"
   ]
  },
  {
   "cell_type": "code",
   "execution_count": null,
   "metadata": {},
   "outputs": [],
   "source": [
    "# Convenção de const e var\n",
    "# Para relacionar uma constante usamos o nome da variável em maiúscula\n",
    "# Para relacionar uma variável usamos o nome da variável em minúscula"
   ]
  },
  {
   "cell_type": "code",
   "execution_count": 7,
   "metadata": {},
   "outputs": [
    {
     "name": "stdout",
     "output_type": "stream",
     "text": [
      "[112, 173, 184, 110, 163, 139, 49, 109, 103, 27, 79, 99]\n",
      "[10, 175, 62, 194, 130, 147, 50, 8, 157, 45, 79, 197]\n",
      "[125, 102, 108, 147, 105, 35, 10, 111, 186, 76, 19, 57]\n",
      "[21, 67, 43, 6, 13, 151, 83, 167, 158, 55, 64, 66]\n",
      "[56, 195, 165, 173, 162, 26, 141, 28, 84, 16, 69, 105]\n"
     ]
    }
   ],
   "source": [
    "from random import randint\n",
    "\n",
    "\n",
    "def get_data():\n",
    "    linhas = 5\n",
    "    colunas = 12\n",
    "    \n",
    "    elementos = []\n",
    "    \n",
    "    for l in range(linhas):\n",
    "        linha = []\n",
    "        for c in range(colunas):\n",
    "            elemento = randint(1, 200)\n",
    "            linha.append(elemento)\n",
    "        elementos.append(linha)\n",
    "\n",
    "\n",
    "    for elemento in elementos:\n",
    "        \n",
    "\n",
    "\n",
    "get_data()"
   ]
  }
 ],
 "metadata": {
  "kernelspec": {
   "display_name": ".venv",
   "language": "python",
   "name": "python3"
  },
  "language_info": {
   "codemirror_mode": {
    "name": "ipython",
    "version": 3
   },
   "file_extension": ".py",
   "mimetype": "text/x-python",
   "name": "python",
   "nbconvert_exporter": "python",
   "pygments_lexer": "ipython3",
   "version": "3.11.4"
  }
 },
 "nbformat": 4,
 "nbformat_minor": 2
}
